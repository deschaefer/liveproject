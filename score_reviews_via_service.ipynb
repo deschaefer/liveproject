{
 "nbformat": 4,
 "nbformat_minor": 0,
 "metadata": {
  "anaconda-cloud": {},
  "kernelspec": {
   "display_name": "Python 3",
   "language": "python",
   "name": "python3"
  },
  "language_info": {
   "codemirror_mode": {
    "name": "ipython",
    "version": 2
   },
   "file_extension": ".py",
   "mimetype": "text/x-python",
   "name": "python",
   "nbconvert_exporter": "python",
   "pygments_lexer": "ipython2",
   "version": "2.7.3"
  },
  "colab": {
   "name": "score_reviews_via_service.ipynb",
   "provenance": [],
   "collapsed_sections": [],
   "toc_visible": true
  }
 },
 "cells": [
  {
   "cell_type": "markdown",
   "metadata": {
    "id": "xWPHNjIPu-m5",
    "colab_type": "text"
   },
   "source": [
    "## Part 1: Existing Machine Learning Services\n",
    "\n",
    "<a href=\"https://colab.research.google.com/github/peckjon/hosting-ml-as-microservice/blob/master/part1/score_reviews_via_service.ipynb\" target=\"_parent\"><img src=\"https://colab.research.google.com/assets/colab-badge.svg\" alt=\"Open In Colab\"/></a>"
   ]
  },
  {
   "cell_type": "markdown",
   "metadata": {
    "id": "KZY8pGffu-m6",
    "colab_type": "text"
   },
   "source": [
    "### Obtain labelled reviews\n",
    "\n",
    "In order to test any of the sentiment analysis APIs, we need a labelled dataset of reviews and their sentiment polarity. We'll use NLTK to download the movie_reviews corpus."
   ]
  },
  {
   "cell_type": "code",
   "metadata": {
    "pycharm": {
     "name": "#%%\n"
    },
    "id": "gGBd47Pxu-m6",
    "colab_type": "code",
    "colab": {
     "base_uri": "https://localhost:8080/",
     "height": 249
    },
    "outputId": "a50c9e31-1476-4bda-ae55-9a98e4e0999d"
   },
   "source": [
    "from nltk import download\n",
    "import boto3\n",
    "import json\n",
    "\n",
    "download('movie_reviews')\n",
    "print('done')"
   ],
   "execution_count": 12,
   "outputs": [
    {
     "name": "stdout",
     "output_type": "stream",
     "text": [
      "done\n"
     ]
    },
    {
     "name": "stderr",
     "output_type": "stream",
     "text": [
      "[nltk_data] Downloading package movie_reviews to\n",
      "[nltk_data]     /Users/deschaefer/nltk_data...\n",
      "[nltk_data]   Package movie_reviews is already up-to-date!\n"
     ]
    }
   ]
  },
  {
   "cell_type": "code",
   "metadata": {
    "id": "U1wcqdInsFcZ",
    "colab_type": "code",
    "colab": {
     "base_uri": "https://localhost:8080/",
     "height": 68
    },
    "outputId": "18d676f2-1c99-4d2e-e4da-d782706c191f"
   },
   "source": [
    "# read file\n",
    "with open('aws_sec.json', 'r') as aws_sec_file:\n",
    "    data=aws_sec_file.read()\n",
    "\n",
    "# parse file\n",
    "sec_data = json.loads(data)\n",
    "\n",
    "comprehend = boto3.client(\n",
    "    service_name='comprehend', \n",
    "    region_name='us-east-1', \n",
    "    aws_access_key_id=sec_data['AWS_ACCESS_KEY_ID'],\n",
    "    aws_secret_access_key=sec_data['AWS_SECRET_ACCESS_KEY']\n",
    "    )\n",
    "print('done')"
   ],
   "execution_count": 13,
   "outputs": [
    {
     "name": "stdout",
     "output_type": "stream",
     "text": [
      "done\n"
     ]
    }
   ]
  },
  {
   "cell_type": "markdown",
   "metadata": {
    "id": "z3n4-q76u-m9",
    "colab_type": "text"
   },
   "source": [
    "### Load the data\n",
    "\n",
    "The files in movie_reviews have already been divided into two sets: positive ('pos') and negative ('neg'), so we can load the raw text of the reviews into two lists, one for each polarity."
   ]
  },
  {
   "cell_type": "code",
   "metadata": {
    "id": "sclUtf-wu-m9",
    "colab_type": "code",
    "colab": {
     "base_uri": "https://localhost:8080/",
     "height": 51
    },
    "outputId": "e6c32e96-b2b6-4913-c3b4-dbe42025d98b"
   },
   "source": [
    "from nltk.corpus import movie_reviews\n",
    "\n",
    "# extract words from reviews, pair with label\n",
    "\n",
    "reviews_pos = []\n",
    "for fileid in movie_reviews.fileids('pos'):\n",
    "    review = movie_reviews.raw(fileid)\n",
    "    reviews_pos.append(review)\n",
    "\n",
    "reviews_neg = []\n",
    "for fileid in movie_reviews.fileids('neg'):\n",
    "    review = movie_reviews.raw(fileid)\n",
    "    reviews_neg.append(review)\n",
    "\n",
    "print(len(reviews_pos))\n",
    "print(len(reviews_neg))\n",
    "print('done')"
   ],
   "execution_count": 14,
   "outputs": [
    {
     "name": "stdout",
     "output_type": "stream",
     "text": [
      "1000\n",
      "1000\n",
      "done\n"
     ]
    }
   ]
  },
  {
   "cell_type": "markdown",
   "metadata": {
    "id": "NgGuapGRu-m_",
    "colab_type": "text"
   },
   "source": [
    "### Connect to the scoring API\n",
    "\n",
    "Fill in this function with code that connects to one of these APIs, and uses it to score a single review:\n",
    "\n",
    "* [Amazon Comprehend: Detect Sentiment](https://docs.aws.amazon.com/comprehend/latest/dg/API_DetectSentiment.html)\n",
    "* [Google Natural Language: Analyzing Sentiment](https://cloud.google.com/natural-language/docs/analyzing-sentiment)\n",
    "* [Azure Cognitive Services: Sentiment Analysis](https://docs.microsoft.com/en-us/azure/cognitive-services/text-analytics/how-tos/text-analytics-how-to-sentiment-analysis)\n",
    "* [Algorithmia: Sentiment Analysis](https://algorithmia.com/algorithms/nlp/SentimentAnalysis)\n",
    "\n",
    "Your function must return either 'pos' or 'neg', so you'll need to make some decisions about how to map the results of the API call to one of these values. For example, Amazon Comprehend can return \"NEUTRAL\" or \"MIXED\" for the Sentiment -- if this happens, you may with to inspect the numeric values under the SentimentScore to see whether it leans toward positive or negative.\n"
   ]
  },
  {
   "cell_type": "code",
   "metadata": {
    "id": "gZ0IZfwYu-m_",
    "colab_type": "code",
    "colab": {}
   },
   "source": [
    "def score_review(review):\n",
    "\n",
    "    if len(review) > 5000:\n",
    "      review = review[1:5000]\n",
    "\n",
    "    sentiment_data = comprehend.detect_sentiment(Text=review, LanguageCode='en')\n",
    "    # {'Sentiment': 'NEGATIVE', \n",
    "        # 'SentimentScore': {\n",
    "        #     'Positive': 0.0007774528348818421, \n",
    "        #     'Negative': 0.9703326225280762, \n",
    "        #     'Neutral': 0.028887486085295677, \n",
    "        #     'Mixed': 2.3995469291548943e-06}, \n",
    "    # print(sentiment_data)\n",
    "    if sentiment_data['Sentiment'] == 'NEGATIVE':\n",
    "      return 'neg'\n",
    "    if sentiment_data['Sentiment'] == 'POSITIVE':\n",
    "      return 'pos'\n",
    "    scores = sentiment_data['SentimentScore']\n",
    "    if scores['Positive'] > scores['Negative']:\n",
    "      return 'pos'\n",
    "    return 'neg'\n",
    "print('done')"
   ],
   "execution_count": 15,
   "outputs": [
    {
     "name": "stdout",
     "output_type": "stream",
     "text": [
      "done\n"
     ]
    }
   ]
  },
  {
   "cell_type": "markdown",
   "metadata": {
    "id": "6Ck0_smcu-nC",
    "colab_type": "text"
   },
   "source": [
    "### Score each review\n",
    "\n",
    "Now, we can use the function you defined to score each of the reviews"
   ]
  },
  {
   "cell_type": "code",
   "metadata": {
    "id": "uVMsxYZnu-nC",
    "colab_type": "code",
    "colab": {}
   },
   "source": [
    "results_pos = []\n",
    "for review in reviews_pos:\n",
    "    result = score_review(review)\n",
    "    results_pos.append(result)\n",
    "\n",
    "results_neg = []\n",
    "for review in reviews_neg:\n",
    "    result = score_review(review)\n",
    "    results_neg.append(result)\n",
    "print('done')"
   ],
   "execution_count": 16,
   "outputs": [
    {
     "name": "stdout",
     "output_type": "stream",
     "text": [
      "done\n"
     ]
    }
   ]
  },
  {
   "cell_type": "markdown",
   "metadata": {
    "id": "vdNGQW2Ru-nE",
    "colab_type": "text"
   },
   "source": [
    "### Calculate accuracy\n",
    "\n",
    "For each of our known positive reviews, we can count the number which our function scored as 'pos', and use this to calculate the % accuracy. We repeaty this for negative reviews, and also for overall accuracy."
   ]
  },
  {
   "cell_type": "code",
   "metadata": {
    "id": "w60mJtaiu-nF",
    "colab_type": "code",
    "colab": {
     "base_uri": "https://localhost:8080/",
     "height": 68
    },
    "outputId": "2ddb2663-9ae8-4de2-95f5-0e5673dba34b"
   },
   "source": [
    "correct_pos = results_pos.count('pos')\n",
    "accuracy_pos = float(correct_pos) / len(results_pos)\n",
    "correct_neg = results_neg.count('neg')\n",
    "accuracy_neg = float(correct_neg) / len(results_neg)\n",
    "correct_all = correct_pos + correct_neg\n",
    "accuracy_all = float(correct_all) / (len(results_pos)+len(results_neg))\n",
    "\n",
    "print('Positive reviews: {}% correct'.format(accuracy_pos*100))\n",
    "print('Negative reviews: {}% correct'.format(accuracy_neg*100))\n",
    "print('Overall accuracy: {}% correct'.format(accuracy_all*100))\n",
    "print('done')"
   ],
   "execution_count": 17,
   "outputs": [
    {
     "name": "stdout",
     "output_type": "stream",
     "text": [
      "Positive reviews: 74.9% correct\n",
      "Negative reviews: 57.3% correct\n",
      "Overall accuracy: 66.10000000000001% correct\n",
      "done\n"
     ]
    }
   ]
  }
 ]
}